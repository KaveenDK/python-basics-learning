{
 "cells": [
  {
   "cell_type": "code",
   "execution_count": 9,
   "id": "c71bf2d9",
   "metadata": {},
   "outputs": [
    {
     "name": "stdout",
     "output_type": "stream",
     "text": [
      "('tennis', 'cricket', 'football')\n",
      "<class 'tuple'>\n",
      "cricket\n"
     ]
    }
   ],
   "source": [
    "##Tuple\n",
    "\n",
    "sports = (\"tennis\", \"cricket\", \"football\")\n",
    "print(sports)\n",
    "print(type(sports))\n",
    "print(sports[1])"
   ]
  },
  {
   "cell_type": "code",
   "execution_count": 10,
   "id": "836335e8",
   "metadata": {},
   "outputs": [],
   "source": [
    "#sports[1] = \"baseball\" #ERROR - 'tuple' object does not support item assignment"
   ]
  },
  {
   "cell_type": "code",
   "execution_count": 11,
   "id": "23bd0383",
   "metadata": {},
   "outputs": [
    {
     "name": "stdout",
     "output_type": "stream",
     "text": [
      "('tennis', 'cricket', 'football', 'tennis')\n"
     ]
    }
   ],
   "source": [
    "sports = (\"tennis\", \"cricket\", \"football\", \"tennis\")\n",
    "print(sports)"
   ]
  },
  {
   "cell_type": "code",
   "execution_count": 12,
   "id": "a8b78d32",
   "metadata": {},
   "outputs": [
    {
     "name": "stdout",
     "output_type": "stream",
     "text": [
      "<class 'str'>\n"
     ]
    }
   ],
   "source": [
    "sports = (\"tennis\")\n",
    "print(type(sports))"
   ]
  },
  {
   "cell_type": "code",
   "execution_count": 13,
   "id": "b18f0bf4",
   "metadata": {},
   "outputs": [
    {
     "name": "stdout",
     "output_type": "stream",
     "text": [
      "<class 'tuple'>\n"
     ]
    }
   ],
   "source": [
    "sports = (\"tennis\",)\n",
    "print(type(sports))"
   ]
  },
  {
   "cell_type": "code",
   "execution_count": 14,
   "id": "e13883ff",
   "metadata": {},
   "outputs": [
    {
     "name": "stdout",
     "output_type": "stream",
     "text": [
      "['tennis', 'cricket', 'football'] <class 'list'>\n",
      "('tennis', 'baseball', 'football') <class 'tuple'>\n"
     ]
    }
   ],
   "source": [
    "sports = (\"tennis\", \"cricket\", \"football\")\n",
    "x = list(sports)\n",
    "print(x, type(x))\n",
    "x[1] = \"baseball\"\n",
    "sports = tuple(x)\n",
    "print(sports, type(sports))"
   ]
  },
  {
   "cell_type": "code",
   "execution_count": 15,
   "id": "30b20433",
   "metadata": {},
   "outputs": [
    {
     "name": "stdout",
     "output_type": "stream",
     "text": [
      "((1, 2, 3), ('a', 'b', 'c'), (True, False))\n",
      "True\n",
      "b\n"
     ]
    }
   ],
   "source": [
    "nested_tuple = ((1, 2, 3), (\"a\", \"b\", \"c\"), (True, False))\n",
    "\n",
    "print(nested_tuple)\n",
    "print(nested_tuple[2][0])\n",
    "print(nested_tuple[1][1])"
   ]
  },
  {
   "cell_type": "code",
   "execution_count": 16,
   "id": "d26bb812",
   "metadata": {},
   "outputs": [
    {
     "name": "stdout",
     "output_type": "stream",
     "text": [
      "{'cricket', 'tennis', 'football'}\n",
      "<class 'set'>\n"
     ]
    }
   ],
   "source": [
    "sports = {\"tennis\", \"cricket\", \"football\"}\n",
    "print(sports)\n",
    "print(type(sports))\n",
    "# print(sports[1]) #ERROR - 'set' object is not subscriptable"
   ]
  },
  {
   "cell_type": "code",
   "execution_count": 17,
   "id": "fcb45f63",
   "metadata": {},
   "outputs": [
    {
     "name": "stdout",
     "output_type": "stream",
     "text": [
      "{'cricket', 'tennis', 'football'}\n",
      "<class 'set'>\n"
     ]
    }
   ],
   "source": [
    "sports = {\"tennis\", \"cricket\", \"football\", \"tennis\"}\n",
    "print(sports)\n",
    "print(type(sports))\n",
    "\n",
    "#duplicate values are not allowed in set"
   ]
  },
  {
   "cell_type": "code",
   "execution_count": 18,
   "id": "58f75d6d",
   "metadata": {},
   "outputs": [
    {
     "name": "stdout",
     "output_type": "stream",
     "text": [
      "3\n"
     ]
    }
   ],
   "source": [
    "sports = {\"tennis\", \"cricket\", \"football\"}\n",
    "print(len(sports))"
   ]
  },
  {
   "cell_type": "code",
   "execution_count": 19,
   "id": "888d68ce",
   "metadata": {},
   "outputs": [
    {
     "name": "stdout",
     "output_type": "stream",
     "text": [
      "{'cricket', 'tennis', 'football', 'soccer'}\n"
     ]
    }
   ],
   "source": [
    "sports = {\"tennis\", \"cricket\", \"football\"}\n",
    "sports.add(\"soccer\")\n",
    "print(sports)"
   ]
  },
  {
   "cell_type": "code",
   "execution_count": 20,
   "id": "7e76bda0",
   "metadata": {},
   "outputs": [
    {
     "name": "stdout",
     "output_type": "stream",
     "text": [
      "{'baseball', 'football', 'cricket', 'tennis', 'hockey'}\n"
     ]
    }
   ],
   "source": [
    "sports = {\"tennis\", \"cricket\", \"football\"}\n",
    "sports.update([\"baseball\", \"hockey\"])\n",
    "print(sports)"
   ]
  },
  {
   "cell_type": "code",
   "execution_count": 21,
   "id": "52006e4b",
   "metadata": {},
   "outputs": [
    {
     "name": "stdout",
     "output_type": "stream",
     "text": [
      "{'tennis', 'football'}\n"
     ]
    }
   ],
   "source": [
    "sports= {\"tennis\", \"cricket\", \"football\"}\n",
    "sports.remove(\"cricket\")\n",
    "print(sports)"
   ]
  },
  {
   "cell_type": "code",
   "execution_count": 22,
   "id": "ec5d64b9",
   "metadata": {},
   "outputs": [
    {
     "name": "stdout",
     "output_type": "stream",
     "text": [
      "range(1, 17, 3)\n"
     ]
    }
   ],
   "source": [
    "my_var = range(1, 17, 3)\n",
    "print(my_var)"
   ]
  },
  {
   "cell_type": "code",
   "execution_count": 23,
   "id": "a4b33d55",
   "metadata": {},
   "outputs": [
    {
     "name": "stdout",
     "output_type": "stream",
     "text": [
      "1\n",
      "4\n",
      "7\n",
      "10\n",
      "13\n",
      "16\n"
     ]
    }
   ],
   "source": [
    "print(my_var[0])\n",
    "print(my_var[1])\n",
    "print(my_var[2])\n",
    "print(my_var[3])\n",
    "print(my_var[4])\n",
    "print(my_var[5])\n",
    "# print(my_var[6]) #ERROR - IndexError: range object index out of range"
   ]
  },
  {
   "cell_type": "code",
   "execution_count": 24,
   "id": "e57a89a4",
   "metadata": {},
   "outputs": [
    {
     "name": "stdout",
     "output_type": "stream",
     "text": [
      "range(3, 8)\n",
      "3\n",
      "4\n",
      "5\n",
      "6\n",
      "7\n"
     ]
    }
   ],
   "source": [
    "range_1 = range(3,8)\n",
    "print(range_1)\n",
    "print(range_1[0])\n",
    "print(range_1[1])\n",
    "print(range_1[2])\n",
    "print(range_1[3])\n",
    "print(range_1[4])"
   ]
  },
  {
   "cell_type": "code",
   "execution_count": 25,
   "id": "da8b1428",
   "metadata": {},
   "outputs": [
    {
     "name": "stdout",
     "output_type": "stream",
     "text": [
      "range(0, 13)\n",
      "0\n",
      "1\n",
      "2\n",
      "3\n",
      "12\n"
     ]
    }
   ],
   "source": [
    "range_2 = range(13)\n",
    "print(range_2)\n",
    "print(range_2[0])\n",
    "print(range_2[1])\n",
    "print(range_2[2])\n",
    "print(range_2[3])\n",
    "print(range_2[12])"
   ]
  },
  {
   "cell_type": "code",
   "execution_count": 26,
   "id": "adcbf2ba",
   "metadata": {},
   "outputs": [
    {
     "name": "stdout",
     "output_type": "stream",
     "text": [
      "{'name': 'Sugar', 'weight': '1kg', 'price': 175.0}\n",
      "<class 'dict'>\n"
     ]
    }
   ],
   "source": [
    "item_1 = {\n",
    "    \"name\": \"Sugar\",\n",
    "    \"weight\": \"1kg\",\n",
    "    \"price\": 175.00\n",
    "}\n",
    "\n",
    "print(item_1)\n",
    "print(type(item_1))"
   ]
  },
  {
   "cell_type": "code",
   "execution_count": 27,
   "id": "80c64dc7",
   "metadata": {},
   "outputs": [
    {
     "name": "stdout",
     "output_type": "stream",
     "text": [
      "{'name': 'Sugar', 'weight': '1kg', 'price': 175.0}\n",
      "<class 'dict'>\n",
      "Sugar\n"
     ]
    }
   ],
   "source": [
    "dict_1 = {\n",
    "    \"name\": \"Sugar\",\n",
    "    \"weight\": \"1kg\",\n",
    "    \"price\": 175.00\n",
    "}\n",
    "\n",
    "print(item_1)\n",
    "print(type(item_1))\n",
    "print(dict_1[\"name\"])"
   ]
  },
  {
   "cell_type": "code",
   "execution_count": 28,
   "id": "22c2367d",
   "metadata": {},
   "outputs": [
    {
     "name": "stdout",
     "output_type": "stream",
     "text": [
      "{'name': 'Sugar', 'weight': '1kg', 'price': 180.0}\n"
     ]
    }
   ],
   "source": [
    "dict_1[\"price\"] = 180.00\n",
    "print(dict_1)"
   ]
  },
  {
   "cell_type": "code",
   "execution_count": 29,
   "id": "6af2df06",
   "metadata": {},
   "outputs": [
    {
     "name": "stdout",
     "output_type": "stream",
     "text": [
      "{'name': 'Sugar', 'weight': '1kg', 'price': 175.0}\n",
      "<class 'dict'>\n",
      "Salt\n"
     ]
    }
   ],
   "source": [
    "# dictionary is not allowed duplicates\n",
    "\n",
    "dict_1 = {\n",
    "    \"name\": \"Sugar\",\n",
    "    \"weight\": \"1kg\",\n",
    "    \"price\": 175.00,\n",
    "    \"name\": \"Salt\"\n",
    "}\n",
    "\n",
    "print(item_1)\n",
    "print(type(item_1))\n",
    "print(dict_1[\"name\"])"
   ]
  },
  {
   "cell_type": "code",
   "execution_count": 30,
   "id": "9c908893",
   "metadata": {},
   "outputs": [],
   "source": [
    "my_dict = {\n",
    "    \"name\": \"Kaveen\",\n",
    "    \"age\": 22,\n",
    "    \"is_student\": True\n",
    "}"
   ]
  },
  {
   "cell_type": "code",
   "execution_count": 31,
   "id": "43ed7964",
   "metadata": {},
   "outputs": [
    {
     "name": "stdout",
     "output_type": "stream",
     "text": [
      "175.0\n"
     ]
    }
   ],
   "source": [
    "dict_1 = {\n",
    "    \"name\": \"Suger\",\n",
    "    \"weight\": \"1kg\",\n",
    "    \"price\": 175.00\n",
    "}\n",
    "\n",
    "print(dict_1.get(\"price\", 50.00))"
   ]
  },
  {
   "cell_type": "code",
   "execution_count": 32,
   "id": "9bbb49ee",
   "metadata": {},
   "outputs": [
    {
     "name": "stdout",
     "output_type": "stream",
     "text": [
      "50.0\n",
      "{'name': 'Suger', 'weight': '1kg'}\n"
     ]
    }
   ],
   "source": [
    "dict_1 = {\n",
    "    \"name\": \"Suger\",\n",
    "    \"weight\": \"1kg\",\n",
    "    # \"price\": 175.00\n",
    "}\n",
    "\n",
    "print(dict_1.get(\"price\", 50.00))\n",
    "print(dict_1)"
   ]
  },
  {
   "cell_type": "code",
   "execution_count": 33,
   "id": "efbbbc9e",
   "metadata": {},
   "outputs": [
    {
     "name": "stdout",
     "output_type": "stream",
     "text": [
      "{'name': 'ERT', 'age': 33, 'is_student': False, 'address': 'Akurassa'}\n"
     ]
    }
   ],
   "source": [
    "this_dist = {\n",
    "    \"name\": \"ERT\",\n",
    "    \"age\": 33,\n",
    "    \"is_student\": False\n",
    "}\n",
    "\n",
    "this_dist[\"address\"] = \"Akurassa\"\n",
    "print(this_dist)"
   ]
  },
  {
   "cell_type": "code",
   "execution_count": 34,
   "id": "147d2fcf",
   "metadata": {},
   "outputs": [
    {
     "name": "stdout",
     "output_type": "stream",
     "text": [
      "{'name': 'Suger', 'weight': '2kg', 'price': 130.35, 'expire_date': '2024-12-31'}\n"
     ]
    }
   ],
   "source": [
    "this_dist = {\n",
    "    \"name\": \"Suger\",\n",
    "    \"weight\": \"1kg\",\n",
    "    \"price\": 130.35\n",
    "}\n",
    "\n",
    "this_dist.update({\"weight\": \"2kg\", \"expire_date\": \"2024-12-31\"})\n",
    "print(this_dist)"
   ]
  },
  {
   "cell_type": "code",
   "execution_count": 35,
   "id": "3b4ff71f",
   "metadata": {},
   "outputs": [
    {
     "name": "stdout",
     "output_type": "stream",
     "text": [
      "{'name': 'Suger', 'weight': '1kg', 'price': 130.35}\n"
     ]
    },
    {
     "data": {
      "text/plain": [
       "'1kg'"
      ]
     },
     "execution_count": 35,
     "metadata": {},
     "output_type": "execute_result"
    }
   ],
   "source": [
    "this_dist = {\n",
    "    \"name\": \"Suger\",\n",
    "    \"weight\": \"1kg\",\n",
    "    \"price\": 130.35\n",
    "}\n",
    "\n",
    "print(this_dist)\n",
    "\n",
    "this_dist.pop(\"weight\")"
   ]
  },
  {
   "cell_type": "code",
   "execution_count": 36,
   "id": "8b355ebf",
   "metadata": {},
   "outputs": [
    {
     "name": "stdout",
     "output_type": "stream",
     "text": [
      "{'name': 'Suger', 'weight': '1kg', 'price': 130.35}\n"
     ]
    }
   ],
   "source": [
    "this_dist = {\n",
    "    \"name\": \"Suger\",\n",
    "    \"weight\": \"1kg\",\n",
    "    \"price\": 130.35\n",
    "}\n",
    "\n",
    "print(this_dist)\n",
    "\n",
    "del this_dist[\"weight\"]"
   ]
  },
  {
   "cell_type": "code",
   "execution_count": 37,
   "id": "44278520",
   "metadata": {},
   "outputs": [
    {
     "name": "stdout",
     "output_type": "stream",
     "text": [
      "{'name': 'Suger', 'weight': '1kg', 'price': 130.35}\n"
     ]
    }
   ],
   "source": [
    "this_dist = {\n",
    "    \"name\": \"Suger\",\n",
    "    \"weight\": \"1kg\",\n",
    "    \"price\": 130.35\n",
    "}\n",
    "\n",
    "print(this_dist)\n",
    "\n",
    "this_dist.clear()"
   ]
  },
  {
   "cell_type": "code",
   "execution_count": 38,
   "id": "a2e93514",
   "metadata": {},
   "outputs": [
    {
     "name": "stdout",
     "output_type": "stream",
     "text": [
      "7\n"
     ]
    }
   ],
   "source": [
    "#Arithmetic Operators - Addition\n",
    "\n",
    "x = 5\n",
    "y = 2\n",
    "\n",
    "print(x+y)"
   ]
  },
  {
   "cell_type": "code",
   "execution_count": 39,
   "id": "8def13af",
   "metadata": {},
   "outputs": [
    {
     "name": "stdout",
     "output_type": "stream",
     "text": [
      "3\n"
     ]
    }
   ],
   "source": [
    "#Arithmetic Operators - Subtraction\n",
    "\n",
    "x = 5\n",
    "y = 2\n",
    "\n",
    "print(x-y)"
   ]
  },
  {
   "cell_type": "code",
   "execution_count": 40,
   "id": "7eb20066",
   "metadata": {},
   "outputs": [
    {
     "name": "stdout",
     "output_type": "stream",
     "text": [
      "10\n"
     ]
    }
   ],
   "source": [
    "#Arithmetic Operators - Multiplication\n",
    "\n",
    "x = 5\n",
    "y = 2\n",
    "\n",
    "print(x*y)"
   ]
  },
  {
   "cell_type": "code",
   "execution_count": 41,
   "id": "9671b172",
   "metadata": {},
   "outputs": [
    {
     "name": "stdout",
     "output_type": "stream",
     "text": [
      "25\n"
     ]
    }
   ],
   "source": [
    "x = 5\n",
    "y = 2\n",
    "\n",
    "print(x ** y) # 5^2 = 25"
   ]
  },
  {
   "cell_type": "code",
   "execution_count": 42,
   "id": "473c75fb",
   "metadata": {},
   "outputs": [
    {
     "name": "stdout",
     "output_type": "stream",
     "text": [
      "4.5\n"
     ]
    }
   ],
   "source": [
    "#Arithmetic Operators - Devision\n",
    "\n",
    "x = 2\n",
    "y = 9\n",
    "\n",
    "print (y/x)"
   ]
  },
  {
   "cell_type": "code",
   "execution_count": 43,
   "id": "8522b90e",
   "metadata": {},
   "outputs": [
    {
     "name": "stdout",
     "output_type": "stream",
     "text": [
      "4\n"
     ]
    }
   ],
   "source": [
    "#Arithmetic Operators - Floor Division\n",
    "\n",
    "x = 2\n",
    "y = 9\n",
    "\n",
    "print (y//x)"
   ]
  },
  {
   "cell_type": "code",
   "execution_count": 44,
   "id": "7c3c7f55",
   "metadata": {},
   "outputs": [
    {
     "name": "stdout",
     "output_type": "stream",
     "text": [
      "1\n"
     ]
    }
   ],
   "source": [
    "#Arithmetic Operators - Modulus\n",
    "\n",
    "x = 2\n",
    "y = 9\n",
    "\n",
    "print (y%x)"
   ]
  },
  {
   "cell_type": "code",
   "execution_count": 45,
   "id": "be131849",
   "metadata": {},
   "outputs": [
    {
     "name": "stdout",
     "output_type": "stream",
     "text": [
      "5\n"
     ]
    }
   ],
   "source": [
    "#Assignment Operators - Assignment\n",
    "\n",
    "x = 5\n",
    "print(x)"
   ]
  },
  {
   "cell_type": "code",
   "execution_count": 46,
   "id": "725854dc",
   "metadata": {},
   "outputs": [
    {
     "name": "stdout",
     "output_type": "stream",
     "text": [
      "12\n"
     ]
    }
   ],
   "source": [
    "#Assignment Operators - Add and Assign\n",
    "\n",
    "x = 5\n",
    "x += 7\n",
    "print(x)"
   ]
  },
  {
   "cell_type": "code",
   "execution_count": 47,
   "id": "ef6437f1",
   "metadata": {},
   "outputs": [
    {
     "name": "stdout",
     "output_type": "stream",
     "text": [
      "-2\n"
     ]
    }
   ],
   "source": [
    "#Assignment Operators - Subtract and Assign\n",
    "\n",
    "x = 5\n",
    "x -= 7\n",
    "print(x)"
   ]
  },
  {
   "cell_type": "code",
   "execution_count": 48,
   "id": "5a88180a",
   "metadata": {},
   "outputs": [
    {
     "name": "stdout",
     "output_type": "stream",
     "text": [
      "35\n"
     ]
    }
   ],
   "source": [
    "#Assignment Operators - Multiply and Assign\n",
    "\n",
    "x = 5\n",
    "x *= 7\n",
    "print(x)"
   ]
  },
  {
   "cell_type": "code",
   "execution_count": 49,
   "id": "98f98c32",
   "metadata": {},
   "outputs": [
    {
     "name": "stdout",
     "output_type": "stream",
     "text": [
      "0.7142857142857143\n"
     ]
    }
   ],
   "source": [
    "#Assignment Operators - Devide and Assign\n",
    "\n",
    "x = 5\n",
    "x /= 7\n",
    "print(x)"
   ]
  },
  {
   "cell_type": "code",
   "execution_count": 50,
   "id": "9421062d",
   "metadata": {},
   "outputs": [
    {
     "name": "stdout",
     "output_type": "stream",
     "text": [
      "5\n"
     ]
    }
   ],
   "source": [
    "#Assignment Operators - Modulus and Assign\n",
    "\n",
    "x = 5\n",
    "x %= 7\n",
    "print(x)"
   ]
  },
  {
   "cell_type": "code",
   "execution_count": 51,
   "id": "d25d9841",
   "metadata": {},
   "outputs": [
    {
     "name": "stdout",
     "output_type": "stream",
     "text": [
      "78125\n"
     ]
    }
   ],
   "source": [
    "#Assignment Operators - Exponentiation and Assign\n",
    "\n",
    "x = 5\n",
    "x **= 7\n",
    "print(x)"
   ]
  },
  {
   "cell_type": "code",
   "execution_count": 52,
   "id": "77f5cfb7",
   "metadata": {},
   "outputs": [
    {
     "name": "stdout",
     "output_type": "stream",
     "text": [
      "0\n"
     ]
    }
   ],
   "source": [
    "#Assignment Operators - Floor Division and Assign\n",
    "\n",
    "x = 5\n",
    "x //= 7\n",
    "print(x)"
   ]
  },
  {
   "cell_type": "code",
   "execution_count": 53,
   "id": "18a7ae11",
   "metadata": {},
   "outputs": [
    {
     "name": "stdout",
     "output_type": "stream",
     "text": [
      "False\n"
     ]
    }
   ],
   "source": [
    "#Comparison Operators - Equal to\n",
    "\n",
    "x = 5\n",
    "y = 2\n",
    "print(x == y)"
   ]
  },
  {
   "cell_type": "code",
   "execution_count": 54,
   "id": "bb8ea68f",
   "metadata": {},
   "outputs": [
    {
     "name": "stdout",
     "output_type": "stream",
     "text": [
      "True\n"
     ]
    }
   ],
   "source": [
    "#Comparison Operators - Not Equal to\n",
    "\n",
    "x = 5\n",
    "y = 6\n",
    "print(x != y)"
   ]
  },
  {
   "cell_type": "code",
   "execution_count": 55,
   "id": "3e2feb48",
   "metadata": {},
   "outputs": [
    {
     "name": "stdout",
     "output_type": "stream",
     "text": [
      "True\n"
     ]
    }
   ],
   "source": [
    "#Comparison Operators - Less Than\n",
    "\n",
    "x = 5\n",
    "y = 6\n",
    "print(x < y)"
   ]
  },
  {
   "cell_type": "code",
   "execution_count": 56,
   "id": "def1baeb",
   "metadata": {},
   "outputs": [
    {
     "name": "stdout",
     "output_type": "stream",
     "text": [
      "False\n"
     ]
    }
   ],
   "source": [
    "#Comparison Operators - Greater Than\n",
    "\n",
    "x = 5\n",
    "y = 6\n",
    "print(x > y)"
   ]
  },
  {
   "cell_type": "code",
   "execution_count": 57,
   "id": "3c9ec02f",
   "metadata": {},
   "outputs": [
    {
     "name": "stdout",
     "output_type": "stream",
     "text": [
      "True\n"
     ]
    }
   ],
   "source": [
    "#Comparison Operators - Less Than or Equal to\n",
    "\n",
    "x = 5\n",
    "y = 6\n",
    "print(x <= y)"
   ]
  },
  {
   "cell_type": "code",
   "execution_count": 58,
   "id": "2f856c57",
   "metadata": {},
   "outputs": [
    {
     "name": "stdout",
     "output_type": "stream",
     "text": [
      "False\n"
     ]
    }
   ],
   "source": [
    "#Comparison Operators - Greater Than or Equal to\n",
    "\n",
    "x = 5\n",
    "y = 6\n",
    "print(x >= y)"
   ]
  },
  {
   "cell_type": "code",
   "execution_count": 59,
   "id": "bf78a2aa",
   "metadata": {},
   "outputs": [
    {
     "name": "stdout",
     "output_type": "stream",
     "text": [
      "True\n"
     ]
    }
   ],
   "source": [
    "# Write a short block of code that checks if the list product_ids contains any duplicate values.Your final answer, True or False, should be stored in a variable call has_duplicates. You should aim for the time efficiant solution\n",
    "\n",
    "product_ids = [\"101\", \"102\", \"103\", \"104\", \"105\", \"106\", \"107\", \"103\", \"109\"]\n",
    "\n",
    "unique_product_ids = set(product_ids)\n",
    "has_duplicates = len(product_ids) > len(unique_product_ids)\n",
    "print(has_duplicates)"
   ]
  },
  {
   "cell_type": "code",
   "execution_count": 60,
   "id": "ec857cda",
   "metadata": {},
   "outputs": [
    {
     "name": "stdout",
     "output_type": "stream",
     "text": [
      "False\n"
     ]
    }
   ],
   "source": [
    "product_ids = [101, 102, 103, 104, 105, 106, 107, 103, 109]\n",
    "\n",
    "unique_product_ids = set(product_ids)\n",
    "has_duplicates = len(product_ids) < len(unique_product_ids)\n",
    "print(has_duplicates)"
   ]
  },
  {
   "cell_type": "code",
   "execution_count": 61,
   "id": "e0d4b48d",
   "metadata": {},
   "outputs": [
    {
     "name": "stdout",
     "output_type": "stream",
     "text": [
      "True\n"
     ]
    }
   ],
   "source": [
    "#Logical Operators - Logical AND\n",
    "\n",
    "x = 5\n",
    "y = 6\n",
    "\n",
    "print(x > 1 and y < 10)"
   ]
  },
  {
   "cell_type": "code",
   "execution_count": 62,
   "id": "54971bed",
   "metadata": {},
   "outputs": [
    {
     "name": "stdout",
     "output_type": "stream",
     "text": [
      "True\n"
     ]
    }
   ],
   "source": [
    "#Logical Operators - Logical OR\n",
    "\n",
    "x = 5\n",
    "y = 6\n",
    "\n",
    "print(x > 6 or y < 10)"
   ]
  },
  {
   "cell_type": "code",
   "execution_count": 63,
   "id": "e8db0ffd",
   "metadata": {},
   "outputs": [
    {
     "name": "stdout",
     "output_type": "stream",
     "text": [
      "False\n"
     ]
    }
   ],
   "source": [
    "#Logical Operators - Logical Not\n",
    "\n",
    "x = 5\n",
    "print(not(x > 1))"
   ]
  },
  {
   "cell_type": "code",
   "execution_count": 64,
   "id": "486371c1",
   "metadata": {},
   "outputs": [
    {
     "name": "stdout",
     "output_type": "stream",
     "text": [
      "False\n"
     ]
    }
   ],
   "source": [
    "#Identity Operators - is\n",
    "\n",
    "x = 5\n",
    "y = 6\n",
    "print(x is y)"
   ]
  },
  {
   "cell_type": "code",
   "execution_count": 65,
   "id": "64c8e3e4",
   "metadata": {},
   "outputs": [
    {
     "name": "stdout",
     "output_type": "stream",
     "text": [
      "True\n"
     ]
    }
   ],
   "source": [
    "#Identity Operators ( -5 to 256)\n",
    "\n",
    "x = 5\n",
    "y = 5\n",
    "print(x is y)"
   ]
  },
  {
   "cell_type": "code",
   "execution_count": 66,
   "id": "4edcec47",
   "metadata": {},
   "outputs": [
    {
     "name": "stdout",
     "output_type": "stream",
     "text": [
      "True\n"
     ]
    }
   ],
   "source": [
    "#Identity Operators ( -5 to 256)\n",
    "\n",
    "x = 256\n",
    "y = 256\n",
    "print(x is y)"
   ]
  },
  {
   "cell_type": "code",
   "execution_count": 67,
   "id": "bbe03997",
   "metadata": {},
   "outputs": [
    {
     "name": "stdout",
     "output_type": "stream",
     "text": [
      "False\n"
     ]
    }
   ],
   "source": [
    "#Identity Operators\n",
    "\n",
    "x = 500\n",
    "y = 500\n",
    "print(x is y)"
   ]
  },
  {
   "cell_type": "code",
   "execution_count": 68,
   "id": "d8856416",
   "metadata": {},
   "outputs": [
    {
     "name": "stdout",
     "output_type": "stream",
     "text": [
      "True\n"
     ]
    }
   ],
   "source": [
    "#Identity Operators - is not\n",
    "\n",
    "x = 5\n",
    "y = 6\n",
    "print(x is not y)"
   ]
  },
  {
   "cell_type": "code",
   "execution_count": 69,
   "id": "d3959391",
   "metadata": {},
   "outputs": [
    {
     "name": "stdout",
     "output_type": "stream",
     "text": [
      "True\n"
     ]
    }
   ],
   "source": [
    "#Identity Operators - String Interning\n",
    "\n",
    "x = \"name\"\n",
    "y = \"name\"\n",
    "print(x is y)"
   ]
  },
  {
   "cell_type": "code",
   "execution_count": 70,
   "id": "de30bb0c",
   "metadata": {},
   "outputs": [
    {
     "name": "stdout",
     "output_type": "stream",
     "text": [
      "True\n",
      "False\n"
     ]
    }
   ],
   "source": [
    "#Membership Operators - in\n",
    "\n",
    "nums = [1, 2, 3, 4, 5]\n",
    "print(1 in nums)\n",
    "print(10 in nums)"
   ]
  },
  {
   "cell_type": "code",
   "execution_count": 71,
   "id": "b3cccf50",
   "metadata": {},
   "outputs": [
    {
     "name": "stdout",
     "output_type": "stream",
     "text": [
      "False\n",
      "True\n"
     ]
    }
   ],
   "source": [
    "#Membership Operators - not in\n",
    "\n",
    "nums = [1, 2, 3, 4, 5]\n",
    "print(1 not in nums)\n",
    "print(10 not in nums)"
   ]
  },
  {
   "cell_type": "code",
   "execution_count": 72,
   "id": "2e724d23",
   "metadata": {},
   "outputs": [
    {
     "name": "stdout",
     "output_type": "stream",
     "text": [
      "0\n"
     ]
    }
   ],
   "source": [
    "#Bitwise Operators - AND\n",
    "\n",
    "x = 5  # 0101\n",
    "y = 10 # 1010\n",
    "z = x & y\n",
    "print(z) # 0000 = 0"
   ]
  },
  {
   "cell_type": "code",
   "execution_count": 73,
   "id": "55a18365",
   "metadata": {},
   "outputs": [
    {
     "name": "stdout",
     "output_type": "stream",
     "text": [
      "15\n"
     ]
    }
   ],
   "source": [
    "#Bitwise Operators - OR\n",
    "\n",
    "x = 5  # 0101\n",
    "y = 10 # 1010\n",
    "z = x | y\n",
    "print(z) # 1111 = 15"
   ]
  },
  {
   "cell_type": "code",
   "execution_count": 74,
   "id": "4332fe40",
   "metadata": {},
   "outputs": [
    {
     "name": "stdout",
     "output_type": "stream",
     "text": [
      "15\n"
     ]
    }
   ],
   "source": [
    "#Bitwise Operators - XOR\n",
    "\n",
    "x = 5  # 0101\n",
    "y = 10 # 1010\n",
    "z = x ^ y\n",
    "print(z) # 1111 = 15"
   ]
  },
  {
   "cell_type": "code",
   "execution_count": 78,
   "id": "16dd9c7b",
   "metadata": {},
   "outputs": [
    {
     "name": "stdout",
     "output_type": "stream",
     "text": [
      "-6\n"
     ]
    }
   ],
   "source": [
    "#Bitwise Operators - NOT\n",
    "\n",
    "x = 5  # 0101\n",
    "y = ~x\n",
    "print(y) # 1010 = -6"
   ]
  },
  {
   "cell_type": "code",
   "execution_count": 80,
   "id": "08191a29",
   "metadata": {},
   "outputs": [
    {
     "name": "stdout",
     "output_type": "stream",
     "text": [
      "True\n"
     ]
    }
   ],
   "source": [
    "result = 5 + 3 * 2 ** 2 > 15 and 10 - 2 * 3 == 4 or not 10 % 5 ==0\n",
    "print(result)"
   ]
  }
 ],
 "metadata": {
  "kernelspec": {
   "display_name": "Python 3",
   "language": "python",
   "name": "python3"
  },
  "language_info": {
   "codemirror_mode": {
    "name": "ipython",
    "version": 3
   },
   "file_extension": ".py",
   "mimetype": "text/x-python",
   "name": "python",
   "nbconvert_exporter": "python",
   "pygments_lexer": "ipython3",
   "version": "3.13.7"
  }
 },
 "nbformat": 4,
 "nbformat_minor": 5
}
