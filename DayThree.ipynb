{
 "cells": [
  {
   "cell_type": "markdown",
   "id": "fe44cf84",
   "metadata": {},
   "source": [
    "if Statement"
   ]
  },
  {
   "cell_type": "code",
   "execution_count": 3,
   "id": "cc82dca1",
   "metadata": {},
   "outputs": [
    {
     "name": "stdout",
     "output_type": "stream",
     "text": [
      "a is greater than b\n",
      "This is outside the if statement\n"
     ]
    }
   ],
   "source": [
    "a = 10\n",
    "b = 5\n",
    "\n",
    "if a > b :\n",
    "    print(\"a is greater than b\")\n",
    "\n",
    "print(\"This is outside the if statement\")    "
   ]
  },
  {
   "cell_type": "markdown",
   "id": "56d4cbe4",
   "metadata": {},
   "source": [
    "if else Statement"
   ]
  },
  {
   "cell_type": "code",
   "execution_count": 4,
   "id": "efc02eb1",
   "metadata": {},
   "outputs": [
    {
     "name": "stdout",
     "output_type": "stream",
     "text": [
      "a is not greater than b\n",
      "This is outside the if statement\n"
     ]
    }
   ],
   "source": [
    "a = 10\n",
    "b = 15\n",
    "\n",
    "if a > b :\n",
    "    print(\"a is greater than b\")\n",
    "else:\n",
    "    print(\"a is not greater than b\")\n",
    "\n",
    "print(\"This is outside the if statement\")    "
   ]
  },
  {
   "cell_type": "markdown",
   "id": "9183b4ad",
   "metadata": {},
   "source": [
    "User input in Python"
   ]
  },
  {
   "cell_type": "code",
   "execution_count": 9,
   "id": "20546db7",
   "metadata": {},
   "outputs": [
    {
     "name": "stdout",
     "output_type": "stream",
     "text": [
      "<class 'str'>\n"
     ]
    }
   ],
   "source": [
    "user_input = input(\"Enter a number: \")\n",
    "print(type(user_input))"
   ]
  },
  {
   "cell_type": "markdown",
   "id": "658f7e5c",
   "metadata": {},
   "source": [
    "Python Program to check user input number is an even or odd number"
   ]
  },
  {
   "cell_type": "code",
   "execution_count": 11,
   "id": "91d35479",
   "metadata": {},
   "outputs": [
    {
     "name": "stdout",
     "output_type": "stream",
     "text": [
      "The number is an even number\n"
     ]
    }
   ],
   "source": [
    "num = input(\"Enter a number: \")\n",
    "num = int(num)\n",
    "\n",
    "if num % 2 == 0:\n",
    "    print(\"The number is an even number\")\n",
    "else:\n",
    "    print(\"The number is an odd number\")\n"
   ]
  },
  {
   "cell_type": "code",
   "execution_count": 12,
   "id": "22f8624d",
   "metadata": {},
   "outputs": [
    {
     "name": "stdout",
     "output_type": "stream",
     "text": [
      "10 is an even number\n"
     ]
    }
   ],
   "source": [
    "num = input(\"Enter a number: \")\n",
    "num = int(num)\n",
    "\n",
    "if num % 2 == 0:\n",
    "    print(f\"{num} is an even number\")\n",
    "else:\n",
    "    print(f\"{num} is an odd number\")\n"
   ]
  },
  {
   "cell_type": "markdown",
   "id": "9b4753bf",
   "metadata": {},
   "source": [
    "Python Programe to calculate a circumference of a circle with radius r , before performing the calculation, validate that the input r is grater than 0"
   ]
  },
  {
   "cell_type": "code",
   "execution_count": 20,
   "id": "12deb44b",
   "metadata": {},
   "outputs": [
    {
     "name": "stdout",
     "output_type": "stream",
     "text": [
      "The circumference of the circle is: 43.96\n"
     ]
    }
   ],
   "source": [
    "radius = float(input(\"Enter the radius of the circle: \"))\n",
    "PI_VALUE = 3.14\n",
    "\n",
    "if radius > 0:\n",
    "    circumference = 2 * PI_VALUE * radius\n",
    "    print(\"The circumference of the circle is:\" , circumference)\n",
    "else:\n",
    "    print(\"Invalid input. Please enter a radius greater than 0.\")\n"
   ]
  },
  {
   "cell_type": "markdown",
   "id": "bf739821",
   "metadata": {},
   "source": [
    "Python Program to calculate the hypotenuse of a right-angled triangle. The program should take the length of the two perpendicular sides as input, validate that both values are greater than 0, and then compute the hypotenuse."
   ]
  },
  {
   "cell_type": "code",
   "execution_count": 22,
   "id": "6bb8c3fa",
   "metadata": {},
   "outputs": [
    {
     "name": "stdout",
     "output_type": "stream",
     "text": [
      "The length of the hypotenuse is: 13.0\n"
     ]
    }
   ],
   "source": [
    "legs = float(input(\"Enter the length of the first perpendicular side (leg): \"))\n",
    "catheti = float(input(\"Enter the length of the second perpendicular side (catheti): \"))\n",
    "\n",
    "if legs > 0 and catheti > 0:\n",
    "    hypotenuse = (legs**2 + catheti**2)**0.5\n",
    "    print(\"The length of the hypotenuse is:\", hypotenuse)\n",
    "else:\n",
    "    print(\"please enter length greater than 0\")"
   ]
  },
  {
   "cell_type": "markdown",
   "id": "174d61b6",
   "metadata": {},
   "source": [
    "if-elif-else"
   ]
  },
  {
   "cell_type": "code",
   "execution_count": 23,
   "id": "96955fbf",
   "metadata": {},
   "outputs": [
    {
     "name": "stdout",
     "output_type": "stream",
     "text": [
      "The number is positive\n"
     ]
    }
   ],
   "source": [
    "a = 15\n",
    "\n",
    "if a > 0:\n",
    "    print(\"The number is positive\")\n",
    "elif a < 0:\n",
    "    print(\"The number is negative\")\n",
    "else:\n",
    "    print(\"The number is zero\")"
   ]
  },
  {
   "cell_type": "code",
   "execution_count": 24,
   "id": "6b87744f",
   "metadata": {},
   "outputs": [
    {
     "name": "stdout",
     "output_type": "stream",
     "text": [
      "The number is positive\n"
     ]
    }
   ],
   "source": [
    "number = float(input(\"Enter a number: \"))\n",
    "\n",
    "if number > 0:\n",
    "    print(\"The number is positive\")\n",
    "elif number < 0:\n",
    "    print(\"The number is negative\")\n",
    "else:\n",
    "    print(\"The number is zero\")"
   ]
  },
  {
   "cell_type": "markdown",
   "id": "481226fb",
   "metadata": {},
   "source": [
    "Python program to determine the largest number among three given numbers"
   ]
  },
  {
   "cell_type": "code",
   "execution_count": 25,
   "id": "1ac84f18",
   "metadata": {},
   "outputs": [
    {
     "name": "stdout",
     "output_type": "stream",
     "text": [
      "The largest number is: 10.0\n"
     ]
    }
   ],
   "source": [
    "num1 = float(input(\"Enter the first number: \"))\n",
    "num2 = float(input(\"Enter the second number: \"))\n",
    "num3 = float(input(\"Enter the third number: \"))\n",
    "\n",
    "if num1 >= num2 and num1 >= num3:\n",
    "    largest = num1\n",
    "elif num2 >= num1 and num2 >= num3:\n",
    "    largest = num2\n",
    "else:\n",
    "    largest = num3\n",
    "\n",
    "print(\"The largest number is:\", largest)"
   ]
  },
  {
   "cell_type": "markdown",
   "id": "4bc4736f",
   "metadata": {},
   "source": [
    "Python Program that takes 3 numbers as input an display them in decending order."
   ]
  },
  {
   "cell_type": "code",
   "execution_count": 31,
   "id": "9525ad8b",
   "metadata": {},
   "outputs": [
    {
     "name": "stdout",
     "output_type": "stream",
     "text": [
      "Number is descending order: 17.0 9.0 5.0\n"
     ]
    }
   ],
   "source": [
    "num1 = float(input(\"Enter the first number: \"))\n",
    "num2 = float(input(\"Enter the second number: \"))\n",
    "num3 = float(input(\"Enter the third number: \"))\n",
    "\n",
    "if num1 >= num2 and num1 >= num3:\n",
    "    if num2 >= num3:\n",
    "        print(\"Number is descending order:\", num1, num2, num3)\n",
    "    else:\n",
    "        print(\"Number is descending order:\", num1, num3, num2)\n",
    "elif num2 >= num1 and num2 >= num3:\n",
    "    if num1 >= num3:\n",
    "        print(\"Number is descending order:\", num2, num1, num3)\n",
    "    else:\n",
    "        print(\"Number is descending order:\", num2, num3, num1)\n",
    "else:\n",
    "    if num1 >= num2:\n",
    "        print(\"Number is descending order:\", num3, num1, num2)\n",
    "    else:\n",
    "        print(\"Number is descending order:\", num3, num2, num1)"
   ]
  },
  {
   "cell_type": "code",
   "execution_count": 29,
   "id": "ce01a221",
   "metadata": {},
   "outputs": [
    {
     "name": "stdout",
     "output_type": "stream",
     "text": [
      "Numbers in descending order: [15.0, 10.0, 3.0]\n"
     ]
    }
   ],
   "source": [
    "#using list and sort method\n",
    "\n",
    "num1 = float(input(\"Enter the first number: \"))\n",
    "num2 = float(input(\"Enter the second number: \"))\n",
    "num3 = float(input(\"Enter the third number: \"))\n",
    "\n",
    "numbers = [num1, num2, num3]\n",
    "numbers.sort(reverse=True)\n",
    "print(\"Numbers in descending order:\", numbers)\n"
   ]
  },
  {
   "cell_type": "markdown",
   "id": "4ae611c8",
   "metadata": {},
   "source": [
    "Ternary Operator"
   ]
  },
  {
   "cell_type": "code",
   "execution_count": 3,
   "id": "bd0796ac",
   "metadata": {},
   "outputs": [
    {
     "name": "stdout",
     "output_type": "stream",
     "text": [
      "Even\n"
     ]
    }
   ],
   "source": [
    "x = 10\n",
    "result = \"Even\" if x % 2 == 0 else \"Odd\"\n",
    "print(result)"
   ]
  },
  {
   "cell_type": "markdown",
   "id": "454161ac",
   "metadata": {},
   "source": [
    "Python Program to take a number as input and print its absolute value using a terary operator"
   ]
  },
  {
   "cell_type": "code",
   "execution_count": 11,
   "id": "878fa626",
   "metadata": {},
   "outputs": [
    {
     "name": "stdout",
     "output_type": "stream",
     "text": [
      "The absolute value is: 0.0\n"
     ]
    }
   ],
   "source": [
    "num = float(input(\"Enter a number: \"))\n",
    "absolute_value = num if num >= 0 else -num\n",
    "print(\"The absolute value is:\", absolute_value)"
   ]
  },
  {
   "cell_type": "code",
   "execution_count": 12,
   "id": "06fa91a7",
   "metadata": {},
   "outputs": [
    {
     "name": "stdout",
     "output_type": "stream",
     "text": [
      "The absolute value is: 0.0\n"
     ]
    }
   ],
   "source": [
    "#using abs()\n",
    "\n",
    "num = float(input(\"Enter a number: \"))\n",
    "absolute_value = abs(num)\n",
    "print(\"The absolute value is:\", absolute_value)"
   ]
  },
  {
   "cell_type": "markdown",
   "id": "5fbcf10b",
   "metadata": {},
   "source": [
    "Structural Pattern Matching"
   ]
  },
  {
   "cell_type": "code",
   "execution_count": 1,
   "id": "eabaf5de",
   "metadata": {},
   "outputs": [
    {
     "name": "stdout",
     "output_type": "stream",
     "text": [
      "x is 2\n"
     ]
    }
   ],
   "source": [
    "x = 2\n",
    "\n",
    "match x :\n",
    "    case 1:\n",
    "        print(\"x is 1\")\n",
    "    case 2:\n",
    "        print(\"x is 2\")\n",
    "    case 3:\n",
    "        print(\"x is 3\")\n",
    "    case _:\n",
    "        print(\"x is something else\")"
   ]
  },
  {
   "cell_type": "markdown",
   "id": "dc03257b",
   "metadata": {},
   "source": [
    "Python Program that takes a day of the week as input(\"Monday, Sunday and etc\") print and whether it is a week day or week end using structural pattern matching "
   ]
  },
  {
   "cell_type": "code",
   "execution_count": 6,
   "id": "bfe16cab",
   "metadata": {},
   "outputs": [
    {
     "name": "stdout",
     "output_type": "stream",
     "text": [
      "is not a valid day in the week.\n"
     ]
    }
   ],
   "source": [
    "day = input(\"Enter a day of the week: \")\n",
    "\n",
    "match day:\n",
    "    case \"Saturday\" | \"Sunday\":\n",
    "        print(day, \"is a weekend.\")\n",
    "    case \"Monday\" | \"Tuesday\" | \"Wednesday\" | \"Thursday\" | \"Friday\":\n",
    "        print(day, \"is a weekday.\")\n",
    "    case _:\n",
    "        print(\"is not a valid day in the week.\")"
   ]
  },
  {
   "cell_type": "markdown",
   "id": "d367d28a",
   "metadata": {},
   "source": [
    "Matching by the length of an Iterable"
   ]
  },
  {
   "cell_type": "code",
   "execution_count": null,
   "id": "b27594d8",
   "metadata": {},
   "outputs": [
    {
     "name": "stdout",
     "output_type": "stream",
     "text": [
      "9\n"
     ]
    }
   ],
   "source": [
    "numbers = [4, 3, 2]\n",
    "\n",
    "match numbers:\n",
    "    case [x, y]:\n",
    "        print(x * y)\n",
    "    case [x, y, z]:\n",
    "        print(x + y + z)\n",
    "    case _:\n",
    "        print(\"The List does not contain 2 or 3 numbers.\")"
   ]
  },
  {
   "cell_type": "markdown",
   "id": "b004a5ad",
   "metadata": {},
   "source": [
    "Python Program using Structural Pattern matching that takes a list of numbers\n",
    "* if the list Contain two numbers, read them as the base and hight of a right angle traingal and calculate the hipotenus\n",
    "* if the list contains three numbers, calculate the area of the traingal using those numbers as sides\n",
    "* otherwise, print \"unsupported number of inputs\" "
   ]
  },
  {
   "cell_type": "code",
   "execution_count": 11,
   "id": "a4a7d109",
   "metadata": {},
   "outputs": [
    {
     "name": "stdout",
     "output_type": "stream",
     "text": [
      "The area of the triangle is: 6.0\n"
     ]
    }
   ],
   "source": [
    "number_list = [3, 4, 5]\n",
    "\n",
    "match number_list:\n",
    "    case [a, b]:\n",
    "        hypotenuse = (a**2 + b**2)**0.5\n",
    "        print(\"The length of the hypotenuse is:\", hypotenuse)\n",
    "    case [a, b, c]:\n",
    "        s = (a + b + c) / 2\n",
    "        area = (s * (s - a) * (s - b) * (s - c))**0.5\n",
    "        print(\"The area of the triangle is:\", area)\n",
    "    case _:\n",
    "        print(\"Unsupported number of inputs.\")"
   ]
  },
  {
   "cell_type": "markdown",
   "id": "e56207d4",
   "metadata": {},
   "source": [
    "# **Loops**"
   ]
  },
  {
   "cell_type": "markdown",
   "id": "1bb1fa3b",
   "metadata": {},
   "source": [
    "1) - For Loop"
   ]
  },
  {
   "cell_type": "code",
   "execution_count": 12,
   "id": "44b6c39c",
   "metadata": {},
   "outputs": [
    {
     "name": "stdout",
     "output_type": "stream",
     "text": [
      "8\n",
      "10\n",
      "6\n",
      "4\n"
     ]
    }
   ],
   "source": [
    "num = [8 , 10, 6, 4]\n",
    "for item in num:\n",
    "    print(item)"
   ]
  },
  {
   "cell_type": "markdown",
   "id": "c4fd3648",
   "metadata": {},
   "source": [
    "Python Program that displays positive multipications of seven which are less than 100"
   ]
  },
  {
   "cell_type": "code",
   "execution_count": null,
   "id": "5b65242f",
   "metadata": {},
   "outputs": [
    {
     "name": "stdout",
     "output_type": "stream",
     "text": [
      "7\n",
      "14\n",
      "21\n",
      "28\n",
      "35\n",
      "42\n",
      "49\n",
      "56\n",
      "63\n",
      "70\n",
      "77\n",
      "84\n",
      "91\n",
      "98\n"
     ]
    }
   ],
   "source": [
    "for i in range(1, 100):\n",
    "    number = i * 7\n",
    "    if number < 100:\n",
    "        print(number)"
   ]
  },
  {
   "cell_type": "code",
   "execution_count": 15,
   "id": "36dcbf19",
   "metadata": {},
   "outputs": [
    {
     "name": "stdout",
     "output_type": "stream",
     "text": [
      "7\n",
      "14\n",
      "21\n",
      "28\n",
      "35\n",
      "42\n",
      "49\n",
      "56\n",
      "63\n",
      "70\n",
      "77\n",
      "84\n",
      "91\n",
      "98\n"
     ]
    }
   ],
   "source": [
    "for i in range(1, 100):\n",
    "    if i % 7 == 0:\n",
    "        print(i)"
   ]
  },
  {
   "cell_type": "code",
   "execution_count": 14,
   "id": "d1350279",
   "metadata": {},
   "outputs": [
    {
     "name": "stdout",
     "output_type": "stream",
     "text": [
      "7\n",
      "14\n",
      "21\n",
      "28\n",
      "35\n",
      "42\n",
      "49\n",
      "56\n",
      "63\n",
      "70\n",
      "77\n",
      "84\n",
      "91\n",
      "98\n"
     ]
    }
   ],
   "source": [
    "for i in range(7, 100, 7):\n",
    "    print(i)"
   ]
  },
  {
   "cell_type": "markdown",
   "id": "fe752ad1",
   "metadata": {},
   "source": [
    "Python Program using a for loop that calculate a factorial of given number"
   ]
  },
  {
   "cell_type": "code",
   "execution_count": 7,
   "id": "f453c278",
   "metadata": {},
   "outputs": [
    {
     "name": "stdout",
     "output_type": "stream",
     "text": [
      "The factorial of 4 is 24\n"
     ]
    }
   ],
   "source": [
    "num = int(input(\"Enter a number to calculate its factorial: \"))\n",
    "factorial = 1\n",
    "for i in range(1, num + 1):\n",
    "    factorial *= i\n",
    "print(\"The factorial of\", num, \"is\", factorial)"
   ]
  },
  {
   "cell_type": "code",
   "execution_count": 10,
   "id": "eb9d0ea1",
   "metadata": {},
   "outputs": [
    {
     "name": "stdout",
     "output_type": "stream",
     "text": [
      "The factorial of 4 is 24\n"
     ]
    }
   ],
   "source": [
    "n = int(input(\"Enter a number: \"))\n",
    "\n",
    "if n < 0:\n",
    "    print(\"Negative numbers do not have factorials.\")\n",
    "else:\n",
    "    factorial = 1\n",
    "    for i in range(1, n + 1):\n",
    "        factorial *= i\n",
    "    print(\"The factorial of\", n, \"is\", factorial)"
   ]
  },
  {
   "cell_type": "markdown",
   "id": "bd2b7d55",
   "metadata": {},
   "source": [
    "Python Program to Bring the following pattern to n = 5 using a for loop\n",
    "\n",
    "    *\n",
    "    * *\n",
    "    * * *\n",
    "    * * * *\n",
    "    * * * * *"
   ]
  },
  {
   "cell_type": "code",
   "execution_count": 6,
   "id": "53c6b251",
   "metadata": {},
   "outputs": [
    {
     "name": "stdout",
     "output_type": "stream",
     "text": [
      "* \n",
      "* * \n",
      "* * * \n",
      "* * * * \n",
      "* * * * * \n"
     ]
    }
   ],
   "source": [
    "n = 5\n",
    "\n",
    "for i in range(1, n + 1):\n",
    "    print(\"* \" * i)"
   ]
  },
  {
   "cell_type": "code",
   "execution_count": 2,
   "id": "b0807e0d",
   "metadata": {},
   "outputs": [
    {
     "name": "stdout",
     "output_type": "stream",
     "text": [
      "* \n",
      "* * \n",
      "* * * \n",
      "* * * * \n",
      "* * * * * \n",
      "* * * * * * \n"
     ]
    }
   ],
   "source": [
    "n = 6\n",
    "for i in range(1, n + 1):\n",
    "    for j in range(i):\n",
    "        print(\"*\", end=\" \")\n",
    "    print()"
   ]
  },
  {
   "cell_type": "markdown",
   "id": "63e4f600",
   "metadata": {},
   "source": [
    "# Exiting form a loop using **\"break\"**"
   ]
  },
  {
   "cell_type": "code",
   "execution_count": 8,
   "id": "c33c7668",
   "metadata": {},
   "outputs": [
    {
     "name": "stdout",
     "output_type": "stream",
     "text": [
      "1 is less than or equal to 5\n",
      "2 is less than or equal to 5\n",
      "3 is less than or equal to 5\n",
      "4 is less than or equal to 5\n",
      "5 is less than or equal to 5\n"
     ]
    }
   ],
   "source": [
    "numbers = [1, 2, 3, 4, 5, 6, 7, 8, 9, 10]\n",
    "\n",
    "for num in numbers:\n",
    "    if num > 5:\n",
    "        break\n",
    "    print(num, \"is less than or equal to 5\")"
   ]
  },
  {
   "cell_type": "markdown",
   "id": "e173de94",
   "metadata": {},
   "source": [
    "python program that takes 10 integers from the user using a for loop.\n",
    "* the program should stop taking input imediatly if the user enters a 0.\n",
    "* after the loop end, print the sum of all the numbers entered before 0"
   ]
  },
  {
   "cell_type": "code",
   "execution_count": null,
   "id": "43e9507f",
   "metadata": {},
   "outputs": [
    {
     "name": "stdout",
     "output_type": "stream",
     "text": [
      "The sum of all numbers entered before 0 is: 15\n"
     ]
    }
   ],
   "source": [
    "sum = 0\n",
    "for i in range(10):\n",
    "    num = int(input(\"Enter an integer (or 0 to stop): \"))\n",
    "    if num == 0:\n",
    "        break\n",
    "    sum += num\n",
    "print(\"The sum of all numbers entered before 0 is:\", sum)"
   ]
  }
 ],
 "metadata": {
  "kernelspec": {
   "display_name": "Python 3",
   "language": "python",
   "name": "python3"
  },
  "language_info": {
   "codemirror_mode": {
    "name": "ipython",
    "version": 3
   },
   "file_extension": ".py",
   "mimetype": "text/x-python",
   "name": "python",
   "nbconvert_exporter": "python",
   "pygments_lexer": "ipython3",
   "version": "3.13.7"
  }
 },
 "nbformat": 4,
 "nbformat_minor": 5
}
